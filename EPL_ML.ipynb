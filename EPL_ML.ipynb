{
 "cells": [
  {
   "cell_type": "code",
   "execution_count": 22,
   "metadata": {},
   "outputs": [],
   "source": [
    "#Import The needed Libraries\n",
    "import pandas as pd\n",
    "import numpy as np\n",
    "from sklearn.tree import DecisionTreeClassifier\n",
    "from sklearn.preprocessing import OneHotEncoder\n",
    "from sklearn.model_selection import train_test_split\n",
    "from sklearn import svm\n",
    "from sklearn.ensemble import RandomForestClassifier\n",
    "from xgboost import XGBClassifier\n",
    "from sklearn.model_selection import cross_val_score\n",
    "from sklearn.metrics import accuracy_score"
   ]
  },
  {
   "cell_type": "code",
   "execution_count": 23,
   "metadata": {},
   "outputs": [],
   "source": [
    "#Load the Data\n",
    "data_set_2018 = pd.read_csv('./datasets/2017_2018.csv')\n",
    "data_set_2019 = pd.read_csv('./datasets/2018_2019.csv')\n",
    "data_set_2020 = pd.read_csv('./datasets/2019_2020.csv')"
   ]
  },
  {
   "cell_type": "code",
   "execution_count": 24,
   "metadata": {},
   "outputs": [],
   "source": [
    "#Encode Dates \n",
    "#2018/2019=1, 2019/2020=2\n",
    "data_set_2018.Date=1\n",
    "data_set_2019.Date=2\n",
    "data_set_2020.Date=3\n"
   ]
  },
  {
   "cell_type": "code",
   "execution_count": 25,
   "metadata": {
    "scrolled": true
   },
   "outputs": [],
   "source": [
    "#Combine the 2019 and 2020 Data \n",
    "combined_data = pd.concat([data_set_2018, data_set_2019, data_set_2020], ignore_index=True, sort=False)"
   ]
  },
  {
   "cell_type": "code",
   "execution_count": 26,
   "metadata": {},
   "outputs": [],
   "source": [
    "# Encode Teams from 1 to 23 values\n",
    "teams_list = combined_data.HomeTeam.unique()\n",
    "teams_list.sort()\n",
    "teams_encode = {}\n",
    "i=1\n",
    "for team in teams_list:\n",
    "    teams_encode[team] = i\n",
    "    i += 1   \n",
    "for team in teams_list:\n",
    "    combined_data.loc[combined_data[\"HomeTeam\"] == team , \"HomeTeam\"] = teams_encode[team]\n",
    "    combined_data.loc[combined_data[\"AwayTeam\"] == team , \"AwayTeam\"] = teams_encode[team]"
   ]
  },
  {
   "cell_type": "code",
   "execution_count": 27,
   "metadata": {},
   "outputs": [],
   "source": [
    "#Encode the FTR \n",
    "# H=1, A=2, D=3\n",
    "combined_data.loc[combined_data[\"FTR\"] == \"H\", \"FTR\"] = 1\n",
    "combined_data.loc[combined_data[\"FTR\"] == \"A\", \"FTR\"] = 2\n",
    "combined_data.loc[combined_data[\"FTR\"] == \"D\", \"FTR\"] = 3"
   ]
  },
  {
   "cell_type": "code",
   "execution_count": null,
   "metadata": {},
   "outputs": [],
   "source": [
    "#Encode Dates \n",
    "# 2018/2019=1, 2019/2020=2"
   ]
  },
  {
   "cell_type": "code",
   "execution_count": 28,
   "metadata": {
    "scrolled": true
   },
   "outputs": [],
   "source": [
    "features = [\"Date\", \"HomeTeam\", \"AwayTeam\", \"B365H\", \"B365D\", \"B365A\"]\n",
    "#features = [\"Date\", \"HomeTeam\", \"AwayTeam\"]\n",
    "label = [\"FTR\"]"
   ]
  },
  {
   "cell_type": "code",
   "execution_count": null,
   "metadata": {},
   "outputs": [],
   "source": [
    "combined_data.head()"
   ]
  },
  {
   "cell_type": "code",
   "execution_count": 29,
   "metadata": {},
   "outputs": [],
   "source": [
    "train_data, test_data = train_test_split(combined_data, test_size=0.1, random_state = 42)\n",
    "train_data_features = train_data[features]\n",
    "train_data_labels = train_data[label]\n",
    "test_data_features = test_data[features]\n",
    "test_data_labels = test_data[label]"
   ]
  },
  {
   "cell_type": "code",
   "execution_count": null,
   "metadata": {},
   "outputs": [],
   "source": [
    "train_data_features.head()"
   ]
  },
  {
   "cell_type": "code",
   "execution_count": null,
   "metadata": {},
   "outputs": [],
   "source": [
    "train_data_labels.head()"
   ]
  },
  {
   "cell_type": "code",
   "execution_count": null,
   "metadata": {},
   "outputs": [],
   "source": [
    "test_data_features.head()"
   ]
  },
  {
   "cell_type": "code",
   "execution_count": null,
   "metadata": {},
   "outputs": [],
   "source": [
    "test_data_labels.head()"
   ]
  },
  {
   "cell_type": "code",
   "execution_count": 30,
   "metadata": {},
   "outputs": [
    {
     "name": "stdout",
     "output_type": "stream",
     "text": [
      "Decision Tree Classifier on Training Data is 0.5593434343434344\n",
      "Decision Tree Classifier on Test Data is 0.5681818181818182\n",
      "[0.         0.         0.         0.62074776 0.06667139 0.31258085]\n"
     ]
    }
   ],
   "source": [
    "# Decision Tree\n",
    "decision_tree = DecisionTreeClassifier(random_state=42, max_depth=2)\n",
    "decision_tree.fit(train_data_features, train_data_labels)\n",
    "print(\"Decision Tree Classifier on Training Data is \" + str(decision_tree.score(train_data_features, train_data_labels)))\n",
    "print(\"Decision Tree Classifier on Test Data is \" + str(decision_tree.score(test_data_features, test_data_labels)))\n",
    "print(decision_tree.feature_importances_)"
   ]
  },
  {
   "cell_type": "code",
   "execution_count": 38,
   "metadata": {},
   "outputs": [
    {
     "name": "stderr",
     "output_type": "stream",
     "text": [
      "c:\\python37_64\\lib\\site-packages\\sklearn\\utils\\validation.py:724: DataConversionWarning: A column-vector y was passed when a 1d array was expected. Please change the shape of y to (n_samples, ), for example using ravel().\n",
      "  y = column_or_1d(y, warn=True)\n"
     ]
    },
    {
     "name": "stdout",
     "output_type": "stream",
     "text": [
      "Support Vector Machine on Training Data is 0.5555555555555556\n",
      "Support Vector Machine on Test Data is0.5795454545454546\n"
     ]
    }
   ],
   "source": [
    "# Support Vector Machine\n",
    "support_vector_machine = svm.SVC(kernel='linear', C=1).fit(train_data_features, train_data_labels)\n",
    "print(\"Support Vector Machine on Training Data is \" + str(support_vector_machine.score(train_data_features, train_data_labels)))\n",
    "print(\"Support Vector Machine on Test Data is\" + str(support_vector_machine.score(test_data_features, test_data_labels)))"
   ]
  },
  {
   "cell_type": "code",
   "execution_count": 35,
   "metadata": {},
   "outputs": [
    {
     "name": "stderr",
     "output_type": "stream",
     "text": [
      "c:\\python37_64\\lib\\site-packages\\ipykernel_launcher.py:3: DataConversionWarning: A column-vector y was passed when a 1d array was expected. Please change the shape of y to (n_samples,), for example using ravel().\n",
      "  This is separate from the ipykernel package so we can avoid doing imports until\n"
     ]
    },
    {
     "name": "stdout",
     "output_type": "stream",
     "text": [
      "Random Forest on Training Data is 0.5858585858585859\n",
      "Random Forest on Test Data is0.5795454545454546\n",
      "[0.01474708 0.0861299  0.06688195 0.34429721 0.16097471 0.32696915]\n"
     ]
    }
   ],
   "source": [
    "# Random Forest\n",
    "random_forest = RandomForestClassifier(n_estimators=200, max_depth=4, random_state=42)\n",
    "random_forest.fit(train_data_features, train_data_labels)\n",
    "print(\"Random Forest on Training Data is \" + str(random_forest.score(train_data_features, train_data_labels)))\n",
    "print(\"Random Forest on Test Data is\" + str(random_forest.score(test_data_features, test_data_labels)))\n",
    "print(random_forest.feature_importances_)"
   ]
  },
  {
   "cell_type": "code",
   "execution_count": 37,
   "metadata": {},
   "outputs": [
    {
     "name": "stdout",
     "output_type": "stream",
     "text": [
      "XGBoost on Training Data is 0.7209595959595959\n",
      "XGBoost on Test Data is0.48863636363636365\n"
     ]
    }
   ],
   "source": [
    "xgboost = XGBClassifier()\n",
    "xgboost.fit(train_data_features, train_data_labels)\n",
    "print(\"XGBoost on Training Data is \" + str(xgboost.score(train_data_features, train_data_labels)))\n",
    "print(\"XGBoost on Test Data is\" + str(xgboost.score(test_data_features, test_data_labels)))\n",
    "#y_pred = xgboost.predict(test_data_features)\n",
    "#accuracy = accuracy_score(y_pred, test_data_labels)\n",
    "#print(\"Accuracy: %.2f%%\" % (accuracy * 100.0))"
   ]
  }
 ],
 "metadata": {
  "kernelspec": {
   "display_name": "Python 3",
   "language": "python",
   "name": "python3"
  },
  "language_info": {
   "codemirror_mode": {
    "name": "ipython",
    "version": 3
   },
   "file_extension": ".py",
   "mimetype": "text/x-python",
   "name": "python",
   "nbconvert_exporter": "python",
   "pygments_lexer": "ipython3",
   "version": "3.7.3"
  }
 },
 "nbformat": 4,
 "nbformat_minor": 2
}
